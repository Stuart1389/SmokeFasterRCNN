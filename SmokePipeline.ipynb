{
 "cells": [
  {
   "cell_type": "code",
   "execution_count": null,
   "metadata": {
    "id": "gBX3uaBbbpf4"
   },
   "outputs": [],
   "source": [
    "# Training or evaluating model\n",
    "Training = True # setting to true will run the Trainer.py script, same as if run locally\n",
    "Testing = False # setting to true will run the Tester.py script, same as if run locally\n",
    "\n",
    "#Base dir within google drive, change to whatever dir you're using\n",
    "base_dir = '/content/drive/MyDrive/Colab Notebooks/Honours/'"
   ]
  },
  {
   "cell_type": "code",
   "execution_count": null,
   "metadata": {
    "id": "NnzZdUe0473x"
   },
   "outputs": [],
   "source": [
    "from google.colab import drive\n",
    "import os\n",
    "import shutil\n",
    "import torch\n",
    "import torchvision\n",
    "print(\"PyTorch version:\", torch.__version__)\n",
    "print(\"CUDA version:\", torch.version.cuda)\n",
    "print(\"torchvision version:\", torchvision.__version__)\n",
    "drive.mount('/content/drive')"
   ]
  },
  {
   "cell_type": "code",
   "execution_count": null,
   "metadata": {
    "id": "YK2bAulPcU5I"
   },
   "outputs": [],
   "source": [
    "# Get github\n",
    "# Clones pipeline from github repo, uses any settings configured locally within the pipeline\n",
    "!git clone https://github.com/Stuart1389/SmokeFasterRCNN.git\n",
    "\n",
    "!pip install torchmetrics\n",
    "!pip install wandb\n",
    "!pip install super-image\n",
    "!pip install huggingface-hub==0.25.2\n"
   ]
  },
  {
   "cell_type": "code",
   "execution_count": null,
   "metadata": {
    "id": "S4Xgf2GJ_q6y"
   },
   "outputs": [],
   "source": [
    "import wandb\n",
    "#https://docs.wandb.ai/quickstart/\n",
    "# to use W&B for other projects, create a project and login\n",
    "# the pipeline already has metric uploading implemented, once logged in metrics/runs will be uploaded automatically"
   ]
  },
  {
   "cell_type": "code",
   "execution_count": null,
   "metadata": {
    "id": "gLmrdEdqbMwb"
   },
   "outputs": [],
   "source": [
    "pipeline_altered_scripts = '/content/SmokeFasterRCNN/Lib/site-packages'  # folder from github repo with altered site package scripts\n",
    "target_base_dir = '/usr/local/lib/python3.11/dist-packages' # replacing scripts in this folder\n",
    "\n",
    "\n",
    "# replacing files\n",
    "for root, _, files in os.walk(pipeline_altered_scripts):\n",
    "    relative_path = os.path.relpath(root, pipeline_altered_scripts)\n",
    "    target_dir = os.path.join(target_base_dir, relative_path)\n",
    "\n",
    "    os.makedirs(target_dir, exist_ok=True)\n",
    "\n",
    "    for file in files:\n",
    "        source_file = os.path.join(root, file)\n",
    "        target_file = os.path.join(target_dir, file)\n",
    "\n",
    "        if os.path.exists(target_file):\n",
    "            os.remove(target_file)\n",
    "            print(f\"Deleted: {target_file}\")\n",
    "\n",
    "        shutil.copy(source_file, target_file)\n",
    "        print(f\"Replaced: {target_file} with {source_file}\")"
   ]
  },
  {
   "cell_type": "code",
   "execution_count": null,
   "metadata": {
    "id": "LdC5ianYM4SN"
   },
   "outputs": [],
   "source": [
    "import os\n",
    "# Creating sym links for google drive\n",
    "# Dataset\n",
    "Dataset_drive = base_dir + \"Dataset\"\n",
    "Dataset_local = \"/content/SmokeFasterRCNN/Dataset\"\n",
    "os.symlink(Dataset_drive, Dataset_local)\n",
    "!ls /content/SmokeFasterRCNN/Dataset\n",
    "\n",
    "\n",
    "# Dataset h5df\n",
    "Dataset_drive_h5df = base_dir + \"DatasetH5py\"\n",
    "Dataset_local_h5df = \"/content/SmokeFasterRCNN/DatasetH5py\"\n",
    "os.symlink(Dataset_drive_h5df, Dataset_local_h5df)\n",
    "!ls /content/SmokeFasterRCNN/Dataset\n",
    "\n",
    "# Saved models\n",
    "savedModels_drive = base_dir + \"FasterR-CNN/savedModels\"\n",
    "savedModels_local = \"/content/SmokeFasterRCNN/FasterR-CNN/savedModels\"\n",
    "os.symlink(savedModels_drive, savedModels_local)\n",
    "!ls /content/SmokeFasterRCNN/FasterR-CNN/savedModels\n",
    "\n",
    "# Saved plots\n",
    "savedPlots_drive = base_dir + \"savedPlots\"\n",
    "savedPlots_local = \"/content/SmokeFasterRCNN/savedPlots\"\n",
    "os.symlink(savedPlots_drive, savedPlots_local)\n",
    "!ls /content/SmokeFasterRCNN/savedPlots"
   ]
  },
  {
   "cell_type": "code",
   "execution_count": null,
   "metadata": {
    "id": "zLtwfcPdSf22"
   },
   "outputs": [],
   "source": [
    "import sys\n",
    "print(os.path.isdir('/content/SmokeFasterRCNN/Libr'))\n",
    "sys.path.append('/content/SmokeFasterRCNN/Libr/utils.py')\n",
    "print(os.listdir('/content/SmokeFasterRCNN/Libr'))"
   ]
  },
  {
   "cell_type": "code",
   "execution_count": null,
   "metadata": {
    "id": "t_iJK-JvUSva"
   },
   "outputs": [],
   "source": [
    "alteredFasterRcnnDir = base_dir + 'AltModel/detection'\n",
    "sys.path.append(alteredFasterRcnnDir)"
   ]
  },
  {
   "cell_type": "code",
   "execution_count": null,
   "metadata": {
    "id": "NRNwHAWhdx4g"
   },
   "outputs": [],
   "source": [
    "# set dir to run scripts\n",
    "%cd /content/SmokeFasterRCNN/FasterR-CNN\n",
    "#!python Check_dataset.py\n",
    "#!python Dataset.py\n",
    "#!python Model.py\n",
    "if (Training):\n",
    "  # run training script\n",
    "  !python Trainer.py\n",
    "\n",
    "if (Testing):\n",
    "  # run testing script\n",
    "  !cd /content/SmokeFasterRCNN && python FasterR-CNN/Tester.py\n"
   ]
  },
  {
   "cell_type": "code",
   "execution_count": null,
   "metadata": {
    "id": "tLiA4m5NcxpX"
   },
   "outputs": [],
   "source": [
    "from google.colab import runtime\n",
    "# automatically disconect runtime at end\n",
    "runtime.unassign()\n"
   ]
  }
 ],
 "metadata": {
  "accelerator": "GPU",
  "colab": {
   "gpuType": "T4",
   "provenance": []
  },
  "kernelspec": {
   "display_name": "Python 3",
   "name": "python3"
  },
  "language_info": {
   "name": "python"
  }
 },
 "nbformat": 4,
 "nbformat_minor": 0
}
